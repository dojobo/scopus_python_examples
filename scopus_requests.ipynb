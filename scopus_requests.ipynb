{
 "cells": [
  {
   "cell_type": "code",
   "execution_count": null,
   "metadata": {},
   "outputs": [],
   "source": [
    "from os import path\n",
    "import json, requests, urllib\n",
    "\n",
    "config_filename = \"config.secret.json\" if path.exists(\"config.secret.json\") else \"config.json\"\n",
    "config_file = open(config_filename)\n",
    "config = json.load(open(config_filename))\n",
    "config_file.close()\n",
    "#print(config['apikey'])"
   ]
  },
  {
   "cell_type": "code",
   "execution_count": null,
   "metadata": {},
   "outputs": [],
   "source": [
    "headers = {\"X-ELS-APIKey\": config[\"apikey\"]}\n",
    "# some query parameters require an insttoken, which must be requested from Elsevier\n",
    "if len(config[\"insttoken\"]) > 0:\n",
    "    headers[\"X-ELS-Insttoken\"] = config[\"insttoken\"]\n",
    "\n",
    "# search in each of the journals by ISSN, for \"machine learning\" in title/abstract/keywords:\n",
    "issns = [\"00218561\"]\n",
    "all_results = {}\n",
    "for issn in issns:\n",
    "    search_string = \"TITLE-ABS-KEY(\\\"machine learning\\\") AND ISSN({0})\".format(issn)\n",
    "    query_params = {\"query\": search_string}\n",
    "    #query_params[\"view\"] = \"COMPLETE\" # add more query params here\n",
    "    query_str = urllib.parse.urlencode(query_params)\n",
    "    url_str = \"https://api.elsevier.com/content/search/scopus?{0}\".format(query_str)\n",
    "    #print(url_str)\n",
    "    \n",
    "    r = requests.get(url_str, headers=headers)\n",
    "    #print(r.status_code)\n",
    "    #print(r.json())\n",
    "    all_results.update({issn: r.json()})\n",
    "\n",
    "print(all_results)"
   ]
  }
 ],
 "metadata": {
  "kernelspec": {
   "display_name": "Python 3",
   "language": "python",
   "name": "python3"
  },
  "language_info": {
   "codemirror_mode": {
    "name": "ipython",
    "version": 3
   },
   "file_extension": ".py",
   "mimetype": "text/x-python",
   "name": "python",
   "nbconvert_exporter": "python",
   "pygments_lexer": "ipython3",
   "version": "3.7.4"
  }
 },
 "nbformat": 4,
 "nbformat_minor": 2
}
